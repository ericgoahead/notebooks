{
 "cells": [
  {
   "cell_type": "code",
   "execution_count": 79,
   "metadata": {
    "collapsed": true
   },
   "outputs": [],
   "source": [
    "%matplotlib inline"
   ]
  },
  {
   "cell_type": "markdown",
   "metadata": {},
   "source": [
    "### SymPy:Calculate a fucntion's gradients symbolically and evaluate them with value substitution"
   ]
  },
  {
   "cell_type": "code",
   "execution_count": 201,
   "metadata": {},
   "outputs": [
    {
     "data": {
      "image/png": "[encoded data removed]",
      "text/latex": [
       "$$F{\\left (x_{1},x_{2},x_{3} \\right )} = \\left(x_{1} + x_{2}\\right) \\left(x_{2} + x_{3}\\right) \\left(x_{1} + x_{2} + x_{3}\\right)$$"
      ],
      "text/plain": [
       "F(x₁, x₂, x₃) = (x₁ + x₂)⋅(x₂ + x₃)⋅(x₁ + x₂ + x₃)"
      ]
     },
     "metadata": {},
     "output_type": "display_data"
    },
    {
     "name": "stdout",
     "output_type": "stream",
     "text": [
      "Calculating gradients of F w.r.t x_1,x_2,x_3 using SymPy:\n"
     ]
    },
    {
     "data": {
      "image/png": "[encoded data removed]",
      "text/latex": [
       "$$\\frac{\\partial}{\\partial x_{1}} F{\\left (x_{1},x_{2},x_{3} \\right )} = 2 x_{1} x_{2} + 2 x_{1} x_{3} + 2 x_{2}^{2} + 3 x_{2} x_{3} + x_{3}^{2} = 52.8$$"
      ],
      "text/plain": [
       " ∂                                           2               2       \n",
       "───(F(x₁, x₂, x₃)) = 2⋅x₁⋅x₂ + 2⋅x₁⋅x₃ + 2⋅x₂  + 3⋅x₂⋅x₃ + x₃  = 52.8\n",
       "∂x₁                                                                  "
      ]
     },
     "metadata": {},
     "output_type": "display_data"
    },
    {
     "data": {
      "image/png": "[encoded data removed]",
      "text/latex": [
       "$$\\frac{\\partial}{\\partial x_{2}} F{\\left (x_{1},x_{2},x_{3} \\right )} = x_{1}^{2} + 4 x_{1} x_{2} + 3 x_{1} x_{3} + 3 x_{2}^{2} + 4 x_{2} x_{3} + x_{3}^{2} = 72.95$$"
      ],
      "text/plain": [
       " ∂                     2                           2               2        \n",
       "───(F(x₁, x₂, x₃)) = x₁  + 4⋅x₁⋅x₂ + 3⋅x₁⋅x₃ + 3⋅x₂  + 4⋅x₂⋅x₃ + x₃  = 72.95\n",
       "∂x₂                                                                         "
      ]
     },
     "metadata": {},
     "output_type": "display_data"
    },
    {
     "data": {
      "image/png": "[encoded data removed]",
      "text/latex": [
       "$$\\frac{\\partial}{\\partial x_{3}} F{\\left (x_{1},x_{2},x_{3} \\right )} = x_{1}^{2} + 3 x_{1} x_{2} + 2 x_{1} x_{3} + 2 x_{2}^{2} + 2 x_{2} x_{3} = 37.2$$"
      ],
      "text/plain": [
       " ∂                     2                           2                 \n",
       "───(F(x₁, x₂, x₃)) = x₁  + 3⋅x₁⋅x₂ + 2⋅x₁⋅x₃ + 2⋅x₂  + 2⋅x₂⋅x₃ = 37.2\n",
       "∂x₃                                                                  "
      ]
     },
     "metadata": {},
     "output_type": "display_data"
    }
   ],
   "source": [
    "from sympy import *\n",
    "x= [1.0,2.1,3.4]\n",
    "init_printing(use_latex=True)\n",
    "#F=Function('F')\n",
    "x1,x2,x3,y1,y2,y3 = symbols('x_1 x_2 x_3 y_1 y_2 y_3')\n",
    "F=Function('F')(x1,x2,x3)\n",
    "\n",
    "y1= x2+x3\n",
    "y2=x1+x2+x3\n",
    "y3=x1+x2\n",
    "F= y1 * y2 *y3\n",
    "display(Eq(Function('F')(x1,x2,x3),F))    \n",
    "Deriv_x1 = Derivative(Function('F')(x1,x2,x3),x1)\n",
    "Deriv_x2 = Derivative(Function('F')(x1,x2,x3),x2)\n",
    "Deriv_x3 = Derivative(Function('F')(x1,x2,x3),x3)\n",
    "print ('Calculating gradients of F w.r.t x_1,x_2,x_3 using SymPy:')\n",
    "subs={x1:x[0],x2:x[1],x3:x[2]}\n",
    "\n",
    "display(Eq(Eq(Deriv_x1,\\\n",
    "              Derivative(F,x1).doit().expand()),\\\n",
    "           Derivative(F,x1).doit().evalf(subs=subs)))\n",
    "display(Eq(Eq(Deriv_x2,\\\n",
    "              Derivative(F,x2).doit().expand()),\\\n",
    "           Derivative(F,x2).doit().evalf(subs=subs)))\n",
    "display(Eq(Eq(Deriv_x3,\\\n",
    "              Derivative(F,x3).doit().expand()),\\\n",
    "           Derivative(F,x3).doit().evalf(subs=subs)))\n"
   ]
  },
  {
   "cell_type": "markdown",
   "metadata": {},
   "source": [
    "### Tensorflow: Build a graph to compute a function's gradients and run a session out of the graph to evalute their values"
   ]
  },
  {
   "cell_type": "code",
   "execution_count": 214,
   "metadata": {},
   "outputs": [],
   "source": [
    "import tensorflow as tf\n",
    "def grad_calculate_tf():\n",
    "    graph=tf.Graph()\n",
    "    with graph.as_default():\n",
    "        x1=tf.placeholder(dtype=tf.float32)\n",
    "        x2=tf.placeholder(dtype=tf.float32)\n",
    "        x3=tf.placeholder(dtype=tf.float32)\n",
    "        X=[x1,x2,x3]\n",
    "        y1=x2 + x3\n",
    "        y2=x1 + x2 + x3\n",
    "        y3=x1 + x2\n",
    "        Y=[y1,y2,y3]\n",
    "        F=y1 *y2 *y3\n",
    "        # Calculate gradient of F w.r.t Y\n",
    "        dF_dY=tf.gradients(F,Y)\n",
    "        # Calculate gradient of F w.r.t X\n",
    "        dF_dX=tf.gradients(F,X,name='dF_dX')\n",
    "        # Calculate gradient of F w.r.t X using chain rule\n",
    "        dF_dX_2=tf.gradients(Y,X,grad_ys=dF_dY,name='dF_dX_2')\n",
    "        # Calculate gradient of F w.r.t [x1,y2,y3] with 'stop_gradients' param.\n",
    "        # F=y1*y2*y3=(y2-x1)*y2*y3\n",
    "        dF_dx1_y2_y3_stop_grad=tf.gradients((y2-x1)*y2*y3,[x1,y2,y3],stop_gradients=[x1,y2,y3])\n",
    "        # Calculate gradient of F w.r.t [x1,y2,y3] without 'stop_gradients' param.\n",
    "        dF_dx1_y2_y3=tf.gradients((y2-x1)*y2*y3,[x1,y2,y3])\n",
    "        dF_dX_3=tf.gradients([x1,y2,y3],X,grad_ys=dF_dx1_y2_y3_stop_grad,name='dF_dX_3')\n",
    "        dF_dX_4=tf.gradients([x1,y2,y3],X,grad_ys=dF_dx1_y2_y3,name='dF_dX_4')\n",
    "        print ('Calculating gradieints of F w.r.t x1,x2,x3 using Tensorflow:')\n",
    "        graph.add_to_collection('Gradients',dF_dX)\n",
    "        graph.add_to_collection('Gradients',dF_dX_2)\n",
    "        graph.add_to_collection('Gradients',dF_dX_3)\n",
    "        graph.add_to_collection('Gradients',dF_dX_4)\n",
    "        graph.add_to_collection('Gradients',dF_dx1_y2_y3)\n",
    "        graph.add_to_collection('Gradients',dF_dx1_y2_y3_stop_grad)\n",
    "        graph.add_to_collection('Inputs',x1)\n",
    "        graph.add_to_collection('Inputs',x2)\n",
    "        graph.add_to_collection('Inputs',x3)\n",
    "        return graph"
   ]
  },
  {
   "cell_type": "code",
   "execution_count": 215,
   "metadata": {},
   "outputs": [
    {
     "name": "stdout",
     "output_type": "stream",
     "text": [
      "Calculating gradieints of F w.r.t x1,x2,x3 using Tensorflow:\n"
     ]
    }
   ],
   "source": [
    "g=grad_calculate_tf()\n",
    "x1, x2, x3 = g.get_collection('Inputs')\n",
    "feed={x1:1.0,x2:2.1,x3:3.4}\n",
    "dF_dX, dF_dX_2, dF_dX_3, dF_dX_4, dF_dx1_y2_y3, dF_dx1_y2_y3_stop_grad = g.get_collection('Gradients')"
   ]
  },
  {
   "cell_type": "code",
   "execution_count": 216,
   "metadata": {},
   "outputs": [
    {
     "name": "stdout",
     "output_type": "stream",
     "text": [
      "[52.8, 72.95, 37.199997]\n",
      "[52.8, 72.95, 37.199997]\n",
      "[52.799995, 72.95, 37.199997]\n",
      "[125.74999, 72.95, 37.199997]\n",
      "52.799995 52.8 -20.15\n"
     ]
    }
   ],
   "source": [
    "\n",
    "with tf.Session(graph=g) as sess:\n",
    "    # Verify that the first three gradients calculated are the same, and they are different from the 4th. one\n",
    "    for gradient in [dF_dX,dF_dX_2,dF_dX_3,dF_dX_4] :\n",
    "        print (sess.run(gradient,feed_dict=feed))\n",
    "    # Verify that the first two gradients of F w.r.t x1 are the same,but they are different from the 3rd. one !\n",
    "    print (sess.run(dF_dx1_y2_y3,feed_dict=feed)[0],sess.run(dF_dX,feed_dict=feed)[0],sess.run(dF_dx1_y2_y3_stop_grad,feed_dict=feed)[0])\n"
   ]
  }
 ],
 "metadata": {
  "kernelspec": {
   "display_name": "Python 3",
   "language": "python",
   "name": "python3"
  },
  "language_info": {
   "codemirror_mode": {
    "name": "ipython",
    "version": 3
   },
   "file_extension": ".py",
   "mimetype": "text/x-python",
   "name": "python",
   "nbconvert_exporter": "python",
   "pygments_lexer": "ipython3",
   "version": "3.6.3"
  }
 },
 "nbformat": 4,
 "nbformat_minor": 2
}
